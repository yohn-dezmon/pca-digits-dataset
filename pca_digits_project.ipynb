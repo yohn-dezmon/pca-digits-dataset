{
 "cells": [
  {
   "cell_type": "markdown",
   "id": "f060742e",
   "metadata": {},
   "source": [
    "### PCA Project - Which Digits are Most Differentiated\n"
   ]
  },
  {
   "cell_type": "code",
   "execution_count": 10,
   "id": "f9cfaeac",
   "metadata": {},
   "outputs": [],
   "source": [
    "import numpy as np \n",
    "import pandas as pd \n",
    "import matplotlib.pyplot as plt \n",
    "import seaborn as sns "
   ]
  },
  {
   "cell_type": "code",
   "execution_count": 11,
   "id": "250c9e3f",
   "metadata": {},
   "outputs": [],
   "source": [
    "digits = pd.read_csv('digits.csv')"
   ]
  },
  {
   "cell_type": "markdown",
   "id": "af3e8754",
   "metadata": {},
   "source": [
    "### Data \n",
    "250 samples from 44 writers.\n",
    "Samples from 30 writers used for training.\n",
    "The tablet sends x and y tablet coordinates and pressure level values of the pen at fixed time intervals (sampling rate) of 100 milliseconds.\n"
   ]
  },
  {
   "cell_type": "code",
   "execution_count": 12,
   "id": "a1a6f4bd",
   "metadata": {},
   "outputs": [
    {
     "data": {
      "text/html": [
       "<div>\n",
       "<style scoped>\n",
       "    .dataframe tbody tr th:only-of-type {\n",
       "        vertical-align: middle;\n",
       "    }\n",
       "\n",
       "    .dataframe tbody tr th {\n",
       "        vertical-align: top;\n",
       "    }\n",
       "\n",
       "    .dataframe thead th {\n",
       "        text-align: right;\n",
       "    }\n",
       "</style>\n",
       "<table border=\"1\" class=\"dataframe\">\n",
       "  <thead>\n",
       "    <tr style=\"text-align: right;\">\n",
       "      <th></th>\n",
       "      <th>pixel_0_0</th>\n",
       "      <th>pixel_0_1</th>\n",
       "      <th>pixel_0_2</th>\n",
       "      <th>pixel_0_3</th>\n",
       "      <th>pixel_0_4</th>\n",
       "      <th>pixel_0_5</th>\n",
       "      <th>pixel_0_6</th>\n",
       "      <th>pixel_0_7</th>\n",
       "      <th>pixel_1_0</th>\n",
       "      <th>pixel_1_1</th>\n",
       "      <th>...</th>\n",
       "      <th>pixel_6_7</th>\n",
       "      <th>pixel_7_0</th>\n",
       "      <th>pixel_7_1</th>\n",
       "      <th>pixel_7_2</th>\n",
       "      <th>pixel_7_3</th>\n",
       "      <th>pixel_7_4</th>\n",
       "      <th>pixel_7_5</th>\n",
       "      <th>pixel_7_6</th>\n",
       "      <th>pixel_7_7</th>\n",
       "      <th>number_label</th>\n",
       "    </tr>\n",
       "  </thead>\n",
       "  <tbody>\n",
       "    <tr>\n",
       "      <th>0</th>\n",
       "      <td>0.0</td>\n",
       "      <td>0.0</td>\n",
       "      <td>5.0</td>\n",
       "      <td>13.0</td>\n",
       "      <td>9.0</td>\n",
       "      <td>1.0</td>\n",
       "      <td>0.0</td>\n",
       "      <td>0.0</td>\n",
       "      <td>0.0</td>\n",
       "      <td>0.0</td>\n",
       "      <td>...</td>\n",
       "      <td>0.0</td>\n",
       "      <td>0.0</td>\n",
       "      <td>0.0</td>\n",
       "      <td>6.0</td>\n",
       "      <td>13.0</td>\n",
       "      <td>10.0</td>\n",
       "      <td>0.0</td>\n",
       "      <td>0.0</td>\n",
       "      <td>0.0</td>\n",
       "      <td>0</td>\n",
       "    </tr>\n",
       "    <tr>\n",
       "      <th>1</th>\n",
       "      <td>0.0</td>\n",
       "      <td>0.0</td>\n",
       "      <td>0.0</td>\n",
       "      <td>12.0</td>\n",
       "      <td>13.0</td>\n",
       "      <td>5.0</td>\n",
       "      <td>0.0</td>\n",
       "      <td>0.0</td>\n",
       "      <td>0.0</td>\n",
       "      <td>0.0</td>\n",
       "      <td>...</td>\n",
       "      <td>0.0</td>\n",
       "      <td>0.0</td>\n",
       "      <td>0.0</td>\n",
       "      <td>0.0</td>\n",
       "      <td>11.0</td>\n",
       "      <td>16.0</td>\n",
       "      <td>10.0</td>\n",
       "      <td>0.0</td>\n",
       "      <td>0.0</td>\n",
       "      <td>1</td>\n",
       "    </tr>\n",
       "    <tr>\n",
       "      <th>2</th>\n",
       "      <td>0.0</td>\n",
       "      <td>0.0</td>\n",
       "      <td>0.0</td>\n",
       "      <td>4.0</td>\n",
       "      <td>15.0</td>\n",
       "      <td>12.0</td>\n",
       "      <td>0.0</td>\n",
       "      <td>0.0</td>\n",
       "      <td>0.0</td>\n",
       "      <td>0.0</td>\n",
       "      <td>...</td>\n",
       "      <td>0.0</td>\n",
       "      <td>0.0</td>\n",
       "      <td>0.0</td>\n",
       "      <td>0.0</td>\n",
       "      <td>3.0</td>\n",
       "      <td>11.0</td>\n",
       "      <td>16.0</td>\n",
       "      <td>9.0</td>\n",
       "      <td>0.0</td>\n",
       "      <td>2</td>\n",
       "    </tr>\n",
       "    <tr>\n",
       "      <th>3</th>\n",
       "      <td>0.0</td>\n",
       "      <td>0.0</td>\n",
       "      <td>7.0</td>\n",
       "      <td>15.0</td>\n",
       "      <td>13.0</td>\n",
       "      <td>1.0</td>\n",
       "      <td>0.0</td>\n",
       "      <td>0.0</td>\n",
       "      <td>0.0</td>\n",
       "      <td>8.0</td>\n",
       "      <td>...</td>\n",
       "      <td>0.0</td>\n",
       "      <td>0.0</td>\n",
       "      <td>0.0</td>\n",
       "      <td>7.0</td>\n",
       "      <td>13.0</td>\n",
       "      <td>13.0</td>\n",
       "      <td>9.0</td>\n",
       "      <td>0.0</td>\n",
       "      <td>0.0</td>\n",
       "      <td>3</td>\n",
       "    </tr>\n",
       "    <tr>\n",
       "      <th>4</th>\n",
       "      <td>0.0</td>\n",
       "      <td>0.0</td>\n",
       "      <td>0.0</td>\n",
       "      <td>1.0</td>\n",
       "      <td>11.0</td>\n",
       "      <td>0.0</td>\n",
       "      <td>0.0</td>\n",
       "      <td>0.0</td>\n",
       "      <td>0.0</td>\n",
       "      <td>0.0</td>\n",
       "      <td>...</td>\n",
       "      <td>0.0</td>\n",
       "      <td>0.0</td>\n",
       "      <td>0.0</td>\n",
       "      <td>0.0</td>\n",
       "      <td>2.0</td>\n",
       "      <td>16.0</td>\n",
       "      <td>4.0</td>\n",
       "      <td>0.0</td>\n",
       "      <td>0.0</td>\n",
       "      <td>4</td>\n",
       "    </tr>\n",
       "  </tbody>\n",
       "</table>\n",
       "<p>5 rows × 65 columns</p>\n",
       "</div>"
      ],
      "text/plain": [
       "   pixel_0_0  pixel_0_1  pixel_0_2  pixel_0_3  pixel_0_4  pixel_0_5  \\\n",
       "0        0.0        0.0        5.0       13.0        9.0        1.0   \n",
       "1        0.0        0.0        0.0       12.0       13.0        5.0   \n",
       "2        0.0        0.0        0.0        4.0       15.0       12.0   \n",
       "3        0.0        0.0        7.0       15.0       13.0        1.0   \n",
       "4        0.0        0.0        0.0        1.0       11.0        0.0   \n",
       "\n",
       "   pixel_0_6  pixel_0_7  pixel_1_0  pixel_1_1  ...  pixel_6_7  pixel_7_0  \\\n",
       "0        0.0        0.0        0.0        0.0  ...        0.0        0.0   \n",
       "1        0.0        0.0        0.0        0.0  ...        0.0        0.0   \n",
       "2        0.0        0.0        0.0        0.0  ...        0.0        0.0   \n",
       "3        0.0        0.0        0.0        8.0  ...        0.0        0.0   \n",
       "4        0.0        0.0        0.0        0.0  ...        0.0        0.0   \n",
       "\n",
       "   pixel_7_1  pixel_7_2  pixel_7_3  pixel_7_4  pixel_7_5  pixel_7_6  \\\n",
       "0        0.0        6.0       13.0       10.0        0.0        0.0   \n",
       "1        0.0        0.0       11.0       16.0       10.0        0.0   \n",
       "2        0.0        0.0        3.0       11.0       16.0        9.0   \n",
       "3        0.0        7.0       13.0       13.0        9.0        0.0   \n",
       "4        0.0        0.0        2.0       16.0        4.0        0.0   \n",
       "\n",
       "   pixel_7_7  number_label  \n",
       "0        0.0             0  \n",
       "1        0.0             1  \n",
       "2        0.0             2  \n",
       "3        0.0             3  \n",
       "4        0.0             4  \n",
       "\n",
       "[5 rows x 65 columns]"
      ]
     },
     "execution_count": 12,
     "metadata": {},
     "output_type": "execute_result"
    }
   ],
   "source": [
    "digits.head()"
   ]
  },
  {
   "cell_type": "code",
   "execution_count": 13,
   "id": "4a624922",
   "metadata": {},
   "outputs": [
    {
     "data": {
      "text/plain": [
       "(1797, 65)"
      ]
     },
     "execution_count": 13,
     "metadata": {},
     "output_type": "execute_result"
    }
   ],
   "source": [
    "# what are the rows and columns here? \n",
    "# 8x8 images of pixels (64) columns \n",
    "# last column is number_label\n",
    "digits.shape"
   ]
  },
  {
   "cell_type": "markdown",
   "id": "abf0679b",
   "metadata": {},
   "source": [
    "### Task: Create a new DataFrame called pixels that consists only of the pixel feature values by dropping the number_label column"
   ]
  },
  {
   "cell_type": "code",
   "execution_count": 15,
   "id": "9f31f2c8",
   "metadata": {},
   "outputs": [],
   "source": [
    "digits_pixels = digits.drop(labels='number_label', axis=1)"
   ]
  },
  {
   "cell_type": "code",
   "execution_count": 17,
   "id": "5eeb70da",
   "metadata": {},
   "outputs": [
    {
     "data": {
      "text/plain": [
       "(1797, 64)"
      ]
     },
     "execution_count": 17,
     "metadata": {},
     "output_type": "execute_result"
    }
   ],
   "source": [
    "# successfully dropped number_label\n",
    "digits_pixels.shape"
   ]
  },
  {
   "cell_type": "markdown",
   "id": "3d5e0da5",
   "metadata": {},
   "source": [
    "##### Task: Grab a single image row representation by getting hte final row of the pixels DataFrame"
   ]
  },
  {
   "cell_type": "code",
   "execution_count": 19,
   "id": "7542deda",
   "metadata": {},
   "outputs": [],
   "source": [
    "first_row = digits_pixels.iloc[0]"
   ]
  },
  {
   "cell_type": "code",
   "execution_count": 20,
   "id": "a1c06f75",
   "metadata": {},
   "outputs": [
    {
     "data": {
      "text/plain": [
       "pixel_0_0     0.0\n",
       "pixel_0_1     0.0\n",
       "pixel_0_2     5.0\n",
       "pixel_0_3    13.0\n",
       "pixel_0_4     9.0\n",
       "             ... \n",
       "pixel_7_3    13.0\n",
       "pixel_7_4    10.0\n",
       "pixel_7_5     0.0\n",
       "pixel_7_6     0.0\n",
       "pixel_7_7     0.0\n",
       "Name: 0, Length: 64, dtype: float64"
      ]
     },
     "execution_count": 20,
     "metadata": {},
     "output_type": "execute_result"
    }
   ],
   "source": [
    "first_row"
   ]
  },
  {
   "cell_type": "markdown",
   "id": "8f251f55",
   "metadata": {},
   "source": [
    "#### Task: convert this single row Series into a numpy array "
   ]
  },
  {
   "cell_type": "code",
   "execution_count": 21,
   "id": "6f830113",
   "metadata": {},
   "outputs": [],
   "source": [
    "np_array = first_row.to_numpy()"
   ]
  },
  {
   "cell_type": "code",
   "execution_count": 22,
   "id": "ecdd1755",
   "metadata": {},
   "outputs": [
    {
     "data": {
      "text/plain": [
       "array([ 0.,  0.,  5., 13.,  9.,  1.,  0.,  0.,  0.,  0., 13., 15., 10.,\n",
       "       15.,  5.,  0.,  0.,  3., 15.,  2.,  0., 11.,  8.,  0.,  0.,  4.,\n",
       "       12.,  0.,  0.,  8.,  8.,  0.,  0.,  5.,  8.,  0.,  0.,  9.,  8.,\n",
       "        0.,  0.,  4., 11.,  0.,  1., 12.,  7.,  0.,  0.,  2., 14.,  5.,\n",
       "       10., 12.,  0.,  0.,  0.,  0.,  6., 13., 10.,  0.,  0.,  0.])"
      ]
     },
     "execution_count": 22,
     "metadata": {},
     "output_type": "execute_result"
    }
   ],
   "source": [
    "np_array"
   ]
  },
  {
   "cell_type": "markdown",
   "id": "cc86833e",
   "metadata": {},
   "source": [
    "##### Task: reshape this numpy array into an (8,8) array "
   ]
  },
  {
   "cell_type": "code",
   "execution_count": 23,
   "id": "899574d7",
   "metadata": {},
   "outputs": [],
   "source": [
    "two_d_array = np.reshape(np_array, (8,8))"
   ]
  },
  {
   "cell_type": "code",
   "execution_count": 24,
   "id": "fdccd00b",
   "metadata": {},
   "outputs": [
    {
     "data": {
      "text/plain": [
       "array([[ 0.,  0.,  5., 13.,  9.,  1.,  0.,  0.],\n",
       "       [ 0.,  0., 13., 15., 10., 15.,  5.,  0.],\n",
       "       [ 0.,  3., 15.,  2.,  0., 11.,  8.,  0.],\n",
       "       [ 0.,  4., 12.,  0.,  0.,  8.,  8.,  0.],\n",
       "       [ 0.,  5.,  8.,  0.,  0.,  9.,  8.,  0.],\n",
       "       [ 0.,  4., 11.,  0.,  1., 12.,  7.,  0.],\n",
       "       [ 0.,  2., 14.,  5., 10., 12.,  0.,  0.],\n",
       "       [ 0.,  0.,  6., 13., 10.,  0.,  0.,  0.]])"
      ]
     },
     "execution_count": 24,
     "metadata": {},
     "output_type": "execute_result"
    }
   ],
   "source": [
    "two_d_array"
   ]
  },
  {
   "cell_type": "markdown",
   "id": "40a62c77",
   "metadata": {},
   "source": [
    "#### Task: use matplotlib or seaborn to display the array as an image representation of the number drawn. Remember your palette or cmap choice would change the colors, but not the actual pixel values."
   ]
  },
  {
   "cell_type": "code",
   "execution_count": 25,
   "id": "f9c81bf6",
   "metadata": {},
   "outputs": [
    {
     "data": {
      "image/png": "[encoded data removed]",
      "text/plain": [
       "<Figure size 432x288 with 2 Axes>"
      ]
     },
     "metadata": {
      "needs_background": "light"
     },
     "output_type": "display_data"
    }
   ],
   "source": [
    "# note to self: should go back and watch the matplotlib section \n",
    "plt.imshow(two_d_array)\n",
    "plt.colorbar()\n",
    "plt.show()"
   ]
  },
  {
   "cell_type": "markdown",
   "id": "84cf3a71",
   "metadata": {},
   "source": [
    "### Scaling Data \n",
    "#### Task: Use Scikit-Learn to scale the pixel feature dataframe"
   ]
  },
  {
   "cell_type": "code",
   "execution_count": 28,
   "id": "7e58dc95",
   "metadata": {},
   "outputs": [],
   "source": [
    "from sklearn.preprocessing import StandardScaler"
   ]
  },
  {
   "cell_type": "code",
   "execution_count": 29,
   "id": "29f6e2ea",
   "metadata": {},
   "outputs": [],
   "source": [
    "scaler = StandardScaler()"
   ]
  },
  {
   "cell_type": "code",
   "execution_count": 30,
   "id": "3f89957a",
   "metadata": {},
   "outputs": [],
   "source": [
    "scaled_X = scaler.fit_transform(digits_pixels)"
   ]
  },
  {
   "cell_type": "code",
   "execution_count": 31,
   "id": "033b5217",
   "metadata": {},
   "outputs": [
    {
     "data": {
      "text/plain": [
       "array([[ 0.        , -0.33501649, -0.04308102, ..., -1.14664746,\n",
       "        -0.5056698 , -0.19600752],\n",
       "       [ 0.        , -0.33501649, -1.09493684, ...,  0.54856067,\n",
       "        -0.5056698 , -0.19600752],\n",
       "       [ 0.        , -0.33501649, -1.09493684, ...,  1.56568555,\n",
       "         1.6951369 , -0.19600752],\n",
       "       ...,\n",
       "       [ 0.        , -0.33501649, -0.88456568, ..., -0.12952258,\n",
       "        -0.5056698 , -0.19600752],\n",
       "       [ 0.        , -0.33501649, -0.67419451, ...,  0.8876023 ,\n",
       "        -0.5056698 , -0.19600752],\n",
       "       [ 0.        , -0.33501649,  1.00877481, ...,  0.8876023 ,\n",
       "        -0.26113572, -0.19600752]])"
      ]
     },
     "execution_count": 31,
     "metadata": {},
     "output_type": "execute_result"
    }
   ],
   "source": [
    "scaled_X"
   ]
  },
  {
   "cell_type": "markdown",
   "id": "e37e17e2",
   "metadata": {},
   "source": [
    "### PCA \n",
    "#### Task: Perform PCA on the scaled pixel data set with 2 components"
   ]
  },
  {
   "cell_type": "code",
   "execution_count": 32,
   "id": "496defcb",
   "metadata": {},
   "outputs": [],
   "source": [
    "from sklearn.decomposition import PCA"
   ]
  },
  {
   "cell_type": "code",
   "execution_count": 33,
   "id": "a45703e8",
   "metadata": {},
   "outputs": [
    {
     "name": "stdout",
     "output_type": "stream",
     "text": [
      "Help on class PCA in module sklearn.decomposition._pca:\n",
      "\n",
      "class PCA(sklearn.decomposition._base._BasePCA)\n",
      " |  PCA(n_components=None, *, copy=True, whiten=False, svd_solver='auto', tol=0.0, iterated_power='auto', n_oversamples=10, power_iteration_normalizer='auto', random_state=None)\n",
      " |  \n",
      " |  Principal component analysis (PCA).\n",
      " |  \n",
      " |  Linear dimensionality reduction using Singular Value Decomposition of the\n",
      " |  data to project it to a lower dimensional space. The input data is centered\n",
      " |  but not scaled for each feature before applying the SVD.\n",
      " |  \n",
      " |  It uses the LAPACK implementation of the full SVD or a randomized truncated\n",
      " |  SVD by the method of Halko et al. 2009, depending on the shape of the input\n",
      " |  data and the number of components to extract.\n",
      " |  \n",
      " |  It can also use the scipy.sparse.linalg ARPACK implementation of the\n",
      " |  truncated SVD.\n",
      " |  \n",
      " |  Notice that this class does not support sparse input. See\n",
      " |  :class:`TruncatedSVD` for an alternative with sparse data.\n",
      " |  \n",
      " |  Read more in the :ref:`User Guide <PCA>`.\n",
      " |  \n",
      " |  Parameters\n",
      " |  ----------\n",
      " |  n_components : int, float or 'mle', default=None\n",
      " |      Number of components to keep.\n",
      " |      if n_components is not set all components are kept::\n",
      " |  \n",
      " |          n_components == min(n_samples, n_features)\n",
      " |  \n",
      " |      If ``n_components == 'mle'`` and ``svd_solver == 'full'``, Minka's\n",
      " |      MLE is used to guess the dimension. Use of ``n_components == 'mle'``\n",
      " |      will interpret ``svd_solver == 'auto'`` as ``svd_solver == 'full'``.\n",
      " |  \n",
      " |      If ``0 < n_components < 1`` and ``svd_solver == 'full'``, select the\n",
      " |      number of components such that the amount of variance that needs to be\n",
      " |      explained is greater than the percentage specified by n_components.\n",
      " |  \n",
      " |      If ``svd_solver == 'arpack'``, the number of components must be\n",
      " |      strictly less than the minimum of n_features and n_samples.\n",
      " |  \n",
      " |      Hence, the None case results in::\n",
      " |  \n",
      " |          n_components == min(n_samples, n_features) - 1\n",
      " |  \n",
      " |  copy : bool, default=True\n",
      " |      If False, data passed to fit are overwritten and running\n",
      " |      fit(X).transform(X) will not yield the expected results,\n",
      " |      use fit_transform(X) instead.\n",
      " |  \n",
      " |  whiten : bool, default=False\n",
      " |      When True (False by default) the `components_` vectors are multiplied\n",
      " |      by the square root of n_samples and then divided by the singular values\n",
      " |      to ensure uncorrelated outputs with unit component-wise variances.\n",
      " |  \n",
      " |      Whitening will remove some information from the transformed signal\n",
      " |      (the relative variance scales of the components) but can sometime\n",
      " |      improve the predictive accuracy of the downstream estimators by\n",
      " |      making their data respect some hard-wired assumptions.\n",
      " |  \n",
      " |  svd_solver : {'auto', 'full', 'arpack', 'randomized'}, default='auto'\n",
      " |      If auto :\n",
      " |          The solver is selected by a default policy based on `X.shape` and\n",
      " |          `n_components`: if the input data is larger than 500x500 and the\n",
      " |          number of components to extract is lower than 80% of the smallest\n",
      " |          dimension of the data, then the more efficient 'randomized'\n",
      " |          method is enabled. Otherwise the exact full SVD is computed and\n",
      " |          optionally truncated afterwards.\n",
      " |      If full :\n",
      " |          run exact full SVD calling the standard LAPACK solver via\n",
      " |          `scipy.linalg.svd` and select the components by postprocessing\n",
      " |      If arpack :\n",
      " |          run SVD truncated to n_components calling ARPACK solver via\n",
      " |          `scipy.sparse.linalg.svds`. It requires strictly\n",
      " |          0 < n_components < min(X.shape)\n",
      " |      If randomized :\n",
      " |          run randomized SVD by the method of Halko et al.\n",
      " |  \n",
      " |      .. versionadded:: 0.18.0\n",
      " |  \n",
      " |  tol : float, default=0.0\n",
      " |      Tolerance for singular values computed by svd_solver == 'arpack'.\n",
      " |      Must be of range [0.0, infinity).\n",
      " |  \n",
      " |      .. versionadded:: 0.18.0\n",
      " |  \n",
      " |  iterated_power : int or 'auto', default='auto'\n",
      " |      Number of iterations for the power method computed by\n",
      " |      svd_solver == 'randomized'.\n",
      " |      Must be of range [0, infinity).\n",
      " |  \n",
      " |      .. versionadded:: 0.18.0\n",
      " |  \n",
      " |  n_oversamples : int, default=10\n",
      " |      This parameter is only relevant when `svd_solver=\"randomized\"`.\n",
      " |      It corresponds to the additional number of random vectors to sample the\n",
      " |      range of `X` so as to ensure proper conditioning. See\n",
      " |      :func:`~sklearn.utils.extmath.randomized_svd` for more details.\n",
      " |  \n",
      " |      .. versionadded:: 1.1\n",
      " |  \n",
      " |  power_iteration_normalizer : {‘auto’, ‘QR’, ‘LU’, ‘none’}, default=’auto’\n",
      " |      Power iteration normalizer for randomized SVD solver.\n",
      " |      Not used by ARPACK. See :func:`~sklearn.utils.extmath.randomized_svd`\n",
      " |      for more details.\n",
      " |  \n",
      " |      .. versionadded:: 1.1\n",
      " |  \n",
      " |  random_state : int, RandomState instance or None, default=None\n",
      " |      Used when the 'arpack' or 'randomized' solvers are used. Pass an int\n",
      " |      for reproducible results across multiple function calls.\n",
      " |      See :term:`Glossary <random_state>`.\n",
      " |  \n",
      " |      .. versionadded:: 0.18.0\n",
      " |  \n",
      " |  Attributes\n",
      " |  ----------\n",
      " |  components_ : ndarray of shape (n_components, n_features)\n",
      " |      Principal axes in feature space, representing the directions of\n",
      " |      maximum variance in the data. Equivalently, the right singular\n",
      " |      vectors of the centered input data, parallel to its eigenvectors.\n",
      " |      The components are sorted by ``explained_variance_``.\n",
      " |  \n",
      " |  explained_variance_ : ndarray of shape (n_components,)\n",
      " |      The amount of variance explained by each of the selected components.\n",
      " |      The variance estimation uses `n_samples - 1` degrees of freedom.\n",
      " |  \n",
      " |      Equal to n_components largest eigenvalues\n",
      " |      of the covariance matrix of X.\n",
      " |  \n",
      " |      .. versionadded:: 0.18\n",
      " |  \n",
      " |  explained_variance_ratio_ : ndarray of shape (n_components,)\n",
      " |      Percentage of variance explained by each of the selected components.\n",
      " |  \n",
      " |      If ``n_components`` is not set then all components are stored and the\n",
      " |      sum of the ratios is equal to 1.0.\n",
      " |  \n",
      " |  singular_values_ : ndarray of shape (n_components,)\n",
      " |      The singular values corresponding to each of the selected components.\n",
      " |      The singular values are equal to the 2-norms of the ``n_components``\n",
      " |      variables in the lower-dimensional space.\n",
      " |  \n",
      " |      .. versionadded:: 0.19\n",
      " |  \n",
      " |  mean_ : ndarray of shape (n_features,)\n",
      " |      Per-feature empirical mean, estimated from the training set.\n",
      " |  \n",
      " |      Equal to `X.mean(axis=0)`.\n",
      " |  \n",
      " |  n_components_ : int\n",
      " |      The estimated number of components. When n_components is set\n",
      " |      to 'mle' or a number between 0 and 1 (with svd_solver == 'full') this\n",
      " |      number is estimated from input data. Otherwise it equals the parameter\n",
      " |      n_components, or the lesser value of n_features and n_samples\n",
      " |      if n_components is None.\n",
      " |  \n",
      " |  n_features_ : int\n",
      " |      Number of features in the training data.\n",
      " |  \n",
      " |  n_samples_ : int\n",
      " |      Number of samples in the training data.\n",
      " |  \n",
      " |  noise_variance_ : float\n",
      " |      The estimated noise covariance following the Probabilistic PCA model\n",
      " |      from Tipping and Bishop 1999. See \"Pattern Recognition and\n",
      " |      Machine Learning\" by C. Bishop, 12.2.1 p. 574 or\n",
      " |      http://www.miketipping.com/papers/met-mppca.pdf. It is required to\n",
      " |      compute the estimated data covariance and score samples.\n",
      " |  \n",
      " |      Equal to the average of (min(n_features, n_samples) - n_components)\n",
      " |      smallest eigenvalues of the covariance matrix of X.\n",
      " |  \n",
      " |  n_features_in_ : int\n",
      " |      Number of features seen during :term:`fit`.\n",
      " |  \n",
      " |      .. versionadded:: 0.24\n",
      " |  \n",
      " |  feature_names_in_ : ndarray of shape (`n_features_in_`,)\n",
      " |      Names of features seen during :term:`fit`. Defined only when `X`\n",
      " |      has feature names that are all strings.\n",
      " |  \n",
      " |      .. versionadded:: 1.0\n",
      " |  \n",
      " |  See Also\n",
      " |  --------\n",
      " |  KernelPCA : Kernel Principal Component Analysis.\n",
      " |  SparsePCA : Sparse Principal Component Analysis.\n",
      " |  TruncatedSVD : Dimensionality reduction using truncated SVD.\n",
      " |  IncrementalPCA : Incremental Principal Component Analysis.\n",
      " |  \n",
      " |  References\n",
      " |  ----------\n",
      " |  For n_components == 'mle', this class uses the method from:\n",
      " |  `Minka, T. P.. \"Automatic choice of dimensionality for PCA\".\n",
      " |  In NIPS, pp. 598-604 <https://tminka.github.io/papers/pca/minka-pca.pdf>`_\n",
      " |  \n",
      " |  Implements the probabilistic PCA model from:\n",
      " |  `Tipping, M. E., and Bishop, C. M. (1999). \"Probabilistic principal\n",
      " |  component analysis\". Journal of the Royal Statistical Society:\n",
      " |  Series B (Statistical Methodology), 61(3), 611-622.\n",
      " |  <http://www.miketipping.com/papers/met-mppca.pdf>`_\n",
      " |  via the score and score_samples methods.\n",
      " |  \n",
      " |  For svd_solver == 'arpack', refer to `scipy.sparse.linalg.svds`.\n",
      " |  \n",
      " |  For svd_solver == 'randomized', see:\n",
      " |  :doi:`Halko, N., Martinsson, P. G., and Tropp, J. A. (2011).\n",
      " |  \"Finding structure with randomness: Probabilistic algorithms for\n",
      " |  constructing approximate matrix decompositions\".\n",
      " |  SIAM review, 53(2), 217-288.\n",
      " |  <10.1137/090771806>`\n",
      " |  and also\n",
      " |  :doi:`Martinsson, P. G., Rokhlin, V., and Tygert, M. (2011).\n",
      " |  \"A randomized algorithm for the decomposition of matrices\".\n",
      " |  Applied and Computational Harmonic Analysis, 30(1), 47-68.\n",
      " |  <10.1016/j.acha.2010.02.003>`\n",
      " |  \n",
      " |  Examples\n",
      " |  --------\n",
      " |  >>> import numpy as np\n",
      " |  >>> from sklearn.decomposition import PCA\n",
      " |  >>> X = np.array([[-1, -1], [-2, -1], [-3, -2], [1, 1], [2, 1], [3, 2]])\n",
      " |  >>> pca = PCA(n_components=2)\n",
      " |  >>> pca.fit(X)\n",
      " |  PCA(n_components=2)\n",
      " |  >>> print(pca.explained_variance_ratio_)\n",
      " |  [0.9924... 0.0075...]\n",
      " |  >>> print(pca.singular_values_)\n",
      " |  [6.30061... 0.54980...]\n",
      " |  \n",
      " |  >>> pca = PCA(n_components=2, svd_solver='full')\n",
      " |  >>> pca.fit(X)\n",
      " |  PCA(n_components=2, svd_solver='full')\n",
      " |  >>> print(pca.explained_variance_ratio_)\n",
      " |  [0.9924... 0.00755...]\n",
      " |  >>> print(pca.singular_values_)\n",
      " |  [6.30061... 0.54980...]\n",
      " |  \n",
      " |  >>> pca = PCA(n_components=1, svd_solver='arpack')\n",
      " |  >>> pca.fit(X)\n",
      " |  PCA(n_components=1, svd_solver='arpack')\n",
      " |  >>> print(pca.explained_variance_ratio_)\n",
      " |  [0.99244...]\n",
      " |  >>> print(pca.singular_values_)\n",
      " |  [6.30061...]\n",
      " |  \n",
      " |  Method resolution order:\n",
      " |      PCA\n",
      " |      sklearn.decomposition._base._BasePCA\n",
      " |      sklearn.base._ClassNamePrefixFeaturesOutMixin\n",
      " |      sklearn.base.TransformerMixin\n",
      " |      sklearn.base.BaseEstimator\n",
      " |      builtins.object\n",
      " |  \n",
      " |  Methods defined here:\n",
      " |  \n",
      " |  __init__(self, n_components=None, *, copy=True, whiten=False, svd_solver='auto', tol=0.0, iterated_power='auto', n_oversamples=10, power_iteration_normalizer='auto', random_state=None)\n",
      " |      Initialize self.  See help(type(self)) for accurate signature.\n",
      " |  \n",
      " |  fit(self, X, y=None)\n",
      " |      Fit the model with X.\n",
      " |      \n",
      " |      Parameters\n",
      " |      ----------\n",
      " |      X : array-like of shape (n_samples, n_features)\n",
      " |          Training data, where `n_samples` is the number of samples\n",
      " |          and `n_features` is the number of features.\n",
      " |      \n",
      " |      y : Ignored\n",
      " |          Ignored.\n",
      " |      \n",
      " |      Returns\n",
      " |      -------\n",
      " |      self : object\n",
      " |          Returns the instance itself.\n",
      " |  \n",
      " |  fit_transform(self, X, y=None)\n",
      " |      Fit the model with X and apply the dimensionality reduction on X.\n",
      " |      \n",
      " |      Parameters\n",
      " |      ----------\n",
      " |      X : array-like of shape (n_samples, n_features)\n",
      " |          Training data, where `n_samples` is the number of samples\n",
      " |          and `n_features` is the number of features.\n",
      " |      \n",
      " |      y : Ignored\n",
      " |          Ignored.\n",
      " |      \n",
      " |      Returns\n",
      " |      -------\n",
      " |      X_new : ndarray of shape (n_samples, n_components)\n",
      " |          Transformed values.\n",
      " |      \n",
      " |      Notes\n",
      " |      -----\n",
      " |      This method returns a Fortran-ordered array. To convert it to a\n",
      " |      C-ordered array, use 'np.ascontiguousarray'.\n",
      " |  \n",
      " |  score(self, X, y=None)\n",
      " |      Return the average log-likelihood of all samples.\n",
      " |      \n",
      " |      See. \"Pattern Recognition and Machine Learning\"\n",
      " |      by C. Bishop, 12.2.1 p. 574\n",
      " |      or http://www.miketipping.com/papers/met-mppca.pdf\n",
      " |      \n",
      " |      Parameters\n",
      " |      ----------\n",
      " |      X : array-like of shape (n_samples, n_features)\n",
      " |          The data.\n",
      " |      \n",
      " |      y : Ignored\n",
      " |          Ignored.\n",
      " |      \n",
      " |      Returns\n",
      " |      -------\n",
      " |      ll : float\n",
      " |          Average log-likelihood of the samples under the current model.\n",
      " |  \n",
      " |  score_samples(self, X)\n",
      " |      Return the log-likelihood of each sample.\n",
      " |      \n",
      " |      See. \"Pattern Recognition and Machine Learning\"\n",
      " |      by C. Bishop, 12.2.1 p. 574\n",
      " |      or http://www.miketipping.com/papers/met-mppca.pdf\n",
      " |      \n",
      " |      Parameters\n",
      " |      ----------\n",
      " |      X : array-like of shape (n_samples, n_features)\n",
      " |          The data.\n",
      " |      \n",
      " |      Returns\n",
      " |      -------\n",
      " |      ll : ndarray of shape (n_samples,)\n",
      " |          Log-likelihood of each sample under the current model.\n",
      " |  \n",
      " |  ----------------------------------------------------------------------\n",
      " |  Data and other attributes defined here:\n",
      " |  \n",
      " |  __abstractmethods__ = frozenset()\n",
      " |  \n",
      " |  ----------------------------------------------------------------------\n",
      " |  Methods inherited from sklearn.decomposition._base._BasePCA:\n",
      " |  \n",
      " |  get_covariance(self)\n",
      " |      Compute data covariance with the generative model.\n",
      " |      \n",
      " |      ``cov = components_.T * S**2 * components_ + sigma2 * eye(n_features)``\n",
      " |      where S**2 contains the explained variances, and sigma2 contains the\n",
      " |      noise variances.\n",
      " |      \n",
      " |      Returns\n",
      " |      -------\n",
      " |      cov : array of shape=(n_features, n_features)\n",
      " |          Estimated covariance of data.\n",
      " |  \n",
      " |  get_precision(self)\n",
      " |      Compute data precision matrix with the generative model.\n",
      " |      \n",
      " |      Equals the inverse of the covariance but computed with\n",
      " |      the matrix inversion lemma for efficiency.\n",
      " |      \n",
      " |      Returns\n",
      " |      -------\n",
      " |      precision : array, shape=(n_features, n_features)\n",
      " |          Estimated precision of data.\n",
      " |  \n",
      " |  inverse_transform(self, X)\n",
      " |      Transform data back to its original space.\n",
      " |      \n",
      " |      In other words, return an input `X_original` whose transform would be X.\n",
      " |      \n",
      " |      Parameters\n",
      " |      ----------\n",
      " |      X : array-like of shape (n_samples, n_components)\n",
      " |          New data, where `n_samples` is the number of samples\n",
      " |          and `n_components` is the number of components.\n",
      " |      \n",
      " |      Returns\n",
      " |      -------\n",
      " |      X_original array-like of shape (n_samples, n_features)\n",
      " |          Original data, where `n_samples` is the number of samples\n",
      " |          and `n_features` is the number of features.\n",
      " |      \n",
      " |      Notes\n",
      " |      -----\n",
      " |      If whitening is enabled, inverse_transform will compute the\n",
      " |      exact inverse operation, which includes reversing whitening.\n",
      " |  \n",
      " |  transform(self, X)\n",
      " |      Apply dimensionality reduction to X.\n",
      " |      \n",
      " |      X is projected on the first principal components previously extracted\n",
      " |      from a training set.\n",
      " |      \n",
      " |      Parameters\n",
      " |      ----------\n",
      " |      X : array-like of shape (n_samples, n_features)\n",
      " |          New data, where `n_samples` is the number of samples\n",
      " |          and `n_features` is the number of features.\n",
      " |      \n",
      " |      Returns\n",
      " |      -------\n",
      " |      X_new : array-like of shape (n_samples, n_components)\n",
      " |          Projection of X in the first principal components, where `n_samples`\n",
      " |          is the number of samples and `n_components` is the number of the components.\n",
      " |  \n",
      " |  ----------------------------------------------------------------------\n",
      " |  Methods inherited from sklearn.base._ClassNamePrefixFeaturesOutMixin:\n",
      " |  \n",
      " |  get_feature_names_out(self, input_features=None)\n",
      " |      Get output feature names for transformation.\n",
      " |      \n",
      " |      Parameters\n",
      " |      ----------\n",
      " |      input_features : array-like of str or None, default=None\n",
      " |          Only used to validate feature names with the names seen in :meth:`fit`.\n",
      " |      \n",
      " |      Returns\n",
      " |      -------\n",
      " |      feature_names_out : ndarray of str objects\n",
      " |          Transformed feature names.\n",
      " |  \n",
      " |  ----------------------------------------------------------------------\n",
      " |  Data descriptors inherited from sklearn.base._ClassNamePrefixFeaturesOutMixin:\n",
      " |  \n",
      " |  __dict__\n",
      " |      dictionary for instance variables (if defined)\n",
      " |  \n",
      " |  __weakref__\n",
      " |      list of weak references to the object (if defined)\n",
      " |  \n",
      " |  ----------------------------------------------------------------------\n",
      " |  Methods inherited from sklearn.base.BaseEstimator:\n",
      " |  \n",
      " |  __getstate__(self)\n",
      " |  \n",
      " |  __repr__(self, N_CHAR_MAX=700)\n",
      " |      Return repr(self).\n",
      " |  \n",
      " |  __setstate__(self, state)\n",
      " |  \n",
      " |  get_params(self, deep=True)\n",
      " |      Get parameters for this estimator.\n",
      " |      \n",
      " |      Parameters\n",
      " |      ----------\n",
      " |      deep : bool, default=True\n",
      " |          If True, will return the parameters for this estimator and\n",
      " |          contained subobjects that are estimators.\n",
      " |      \n",
      " |      Returns\n",
      " |      -------\n",
      " |      params : dict\n",
      " |          Parameter names mapped to their values.\n",
      " |  \n",
      " |  set_params(self, **params)\n",
      " |      Set the parameters of this estimator.\n",
      " |      \n",
      " |      The method works on simple estimators as well as on nested objects\n",
      " |      (such as :class:`~sklearn.pipeline.Pipeline`). The latter have\n",
      " |      parameters of the form ``<component>__<parameter>`` so that it's\n",
      " |      possible to update each component of a nested object.\n",
      " |      \n",
      " |      Parameters\n",
      " |      ----------\n",
      " |      **params : dict\n",
      " |          Estimator parameters.\n",
      " |      \n",
      " |      Returns\n",
      " |      -------\n",
      " |      self : estimator instance\n",
      " |          Estimator instance.\n",
      "\n"
     ]
    }
   ],
   "source": [
    "help(PCA)"
   ]
  },
  {
   "cell_type": "code",
   "execution_count": 34,
   "id": "849f50ec",
   "metadata": {},
   "outputs": [],
   "source": [
    "pca = PCA(n_components=2)"
   ]
  },
  {
   "cell_type": "code",
   "execution_count": 35,
   "id": "96b5d27f",
   "metadata": {},
   "outputs": [],
   "source": [
    "principal_components = pca.fit_transform(scaled_X)"
   ]
  },
  {
   "cell_type": "markdown",
   "id": "6294ec96",
   "metadata": {},
   "source": [
    "#### Task: How much variance is explained by 2 principal components"
   ]
  },
  {
   "cell_type": "code",
   "execution_count": 36,
   "id": "aa739b8a",
   "metadata": {},
   "outputs": [
    {
     "data": {
      "text/plain": [
       "array([0.12033916, 0.09561054])"
      ]
     },
     "execution_count": 36,
     "metadata": {},
     "output_type": "execute_result"
    }
   ],
   "source": [
    "# it's interesting that this data gets stored in the pca object \n",
    "# as opposed to the principal_components object\n",
    "pca.explained_variance_ratio_"
   ]
  },
  {
   "cell_type": "code",
   "execution_count": 37,
   "id": "12b304c6",
   "metadata": {},
   "outputs": [
    {
     "data": {
      "text/plain": [
       "0.2159497049899753"
      ]
     },
     "execution_count": 37,
     "metadata": {},
     "output_type": "execute_result"
    }
   ],
   "source": [
    "pca.explained_variance_ratio_.sum()"
   ]
  },
  {
   "cell_type": "code",
   "execution_count": 38,
   "id": "b9777e3a",
   "metadata": {},
   "outputs": [
    {
     "data": {
      "text/plain": [
       "array([[ 1.91422162, -0.95448422],\n",
       "       [ 0.58897882,  0.92463769],\n",
       "       [ 1.30201973, -0.31720966],\n",
       "       ...,\n",
       "       [ 1.02259029, -0.14793444],\n",
       "       [ 1.07605843, -0.38088954],\n",
       "       [-1.2576962 , -2.22757904]])"
      ]
     },
     "execution_count": 38,
     "metadata": {},
     "output_type": "execute_result"
    }
   ],
   "source": [
    "principal_components"
   ]
  },
  {
   "cell_type": "markdown",
   "id": "53fa6dc0",
   "metadata": {},
   "source": [
    "#### Task: create a scatterplot of the digits in the 2 dimensional PCA space, color/label based on the original number_label column in the original dataset."
   ]
  },
  {
   "cell_type": "markdown",
   "id": "98c69dd9",
   "metadata": {},
   "source": [
    "plt.scatter(principal_components[:,0],principal_components[:,1],c=cancer_dictionary['target'])\n",
    "\n",
    "^ What is this line doing?\n",
    "\n",
    "principal_components[:0] --> get the "
   ]
  },
  {
   "cell_type": "code",
   "execution_count": 39,
   "id": "a6f87eb1",
   "metadata": {},
   "outputs": [
    {
     "ename": "TypeError",
     "evalue": "scatter() missing 1 required positional argument: 'y'",
     "output_type": "error",
     "traceback": [
      "\u001b[0;31m---------------------------------------------------------------------------\u001b[0m",
      "\u001b[0;31mTypeError\u001b[0m                                 Traceback (most recent call last)",
      "Input \u001b[0;32mIn [39]\u001b[0m, in \u001b[0;36m<cell line: 1>\u001b[0;34m()\u001b[0m\n\u001b[0;32m----> 1\u001b[0m \u001b[43mplt\u001b[49m\u001b[38;5;241;43m.\u001b[39;49m\u001b[43mscatter\u001b[49m\u001b[43m(\u001b[49m\u001b[43mprincipal_components\u001b[49m\u001b[43m)\u001b[49m\n\u001b[1;32m      2\u001b[0m plt\u001b[38;5;241m.\u001b[39mshow()\n",
      "\u001b[0;31mTypeError\u001b[0m: scatter() missing 1 required positional argument: 'y'"
     ]
    }
   ],
   "source": [
    "\n",
    "\n",
    "plt.scatter(principal_components)\n",
    "plt.show()"
   ]
  },
  {
   "cell_type": "code",
   "execution_count": null,
   "id": "46f41446",
   "metadata": {},
   "outputs": [],
   "source": []
  }
 ],
 "metadata": {
  "kernelspec": {
   "display_name": "Python 3 (ipykernel)",
   "language": "python",
   "name": "python3"
  },
  "language_info": {
   "codemirror_mode": {
    "name": "ipython",
    "version": 3
   },
   "file_extension": ".py",
   "mimetype": "text/x-python",
   "name": "python",
   "nbconvert_exporter": "python",
   "pygments_lexer": "ipython3",
   "version": "3.10.5"
  }
 },
 "nbformat": 4,
 "nbformat_minor": 5
}
